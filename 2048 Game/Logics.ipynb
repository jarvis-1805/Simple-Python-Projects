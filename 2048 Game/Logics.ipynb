{
 "cells": [
  {
   "cell_type": "code",
   "execution_count": 1,
   "metadata": {},
   "outputs": [],
   "source": [
    "def start_game():\n",
    "    # Generateing 2-D matrix (list)\n",
    "    mat = []\n",
    "    \n",
    "    for i in range(4):\n",
    "        mat.append([0]*4)\n",
    "    \n",
    "    return mat"
   ]
  },
  {
   "cell_type": "code",
   "execution_count": 2,
   "metadata": {},
   "outputs": [],
   "source": [
    "import random\n",
    "\n",
    "def add_new_2(mat):\n",
    "    # Generating random position for new 2\n",
    "    r = random.randint(0, 3)\n",
    "    c = random.randint(0, 3)\n",
    "    while mat[r][c] != 0:\n",
    "        r = random.randint(0, 3)\n",
    "        c = random.randint(0, 3)\n",
    "    \n",
    "    mat[r][c] = 2"
   ]
  },
  {
   "cell_type": "code",
   "execution_count": 3,
   "metadata": {},
   "outputs": [],
   "source": [
    "def get_current_state(mat):\n",
    "    # WON\n",
    "    # Anywhere 2048 is present\n",
    "    for i in range(4):\n",
    "        for j in range(4):\n",
    "            if mat[i][j] == 2048:\n",
    "                return 'WON!'\n",
    "    \n",
    "    # Not Over Yet\n",
    "    # Anywhere 0 is present\n",
    "    for i in range(4):\n",
    "        for j in range(4):\n",
    "            if mat[i][j] == 0:\n",
    "                return 'GAME NOT OVER!'\n",
    "    \n",
    "    # Every row and column except last row and last column\n",
    "    for i in range(3):\n",
    "        for j in range(3):\n",
    "            if mat[i][j] == mat[i+1][j] or mat[i][j] == mat[i][j+1]:\n",
    "                return 'GAME NOT OVER!'\n",
    "    \n",
    "    # Last Row\n",
    "    for j in range(3):\n",
    "        if mat[3][j] == mat[3][j+1]:\n",
    "            return 'GAME NOT OVER!'\n",
    "        \n",
    "    # Last Column\n",
    "    for i in range(3):\n",
    "        if mat[i][3] == mat[i+1][3]:\n",
    "            return 'GAME NOT OVER!'\n",
    "    \n",
    "    # LOST\n",
    "    return 'LOST!'"
   ]
  },
  {
   "cell_type": "code",
   "execution_count": 4,
   "metadata": {},
   "outputs": [],
   "source": [
    "def compress(mat):\n",
    "    new_mat = []\n",
    "    changed = False\n",
    "    for i in range(4):\n",
    "        new_mat.append([0]*4)\n",
    "        \n",
    "    for i in range(4):\n",
    "        pos = 0\n",
    "        for j in range(4):\n",
    "            if mat[i][j] != 0:\n",
    "                new_mat[i][pos] = mat[i][j]\n",
    "                if j != pos:\n",
    "                    changed = True\n",
    "                pos += 1\n",
    "    \n",
    "    return new_mat, changed"
   ]
  },
  {
   "cell_type": "code",
   "execution_count": 5,
   "metadata": {},
   "outputs": [],
   "source": [
    "def merge(mat):\n",
    "    changed = False\n",
    "    for i in range(4):\n",
    "        for j in range(3):\n",
    "            if mat[i][j] == mat[i][j+1] and mat[i][j] != 0:\n",
    "                mat[i][j] *= 2\n",
    "                mat[i][j+1] = 0\n",
    "                changed = True\n",
    "    \n",
    "    return mat, changed"
   ]
  },
  {
   "cell_type": "code",
   "execution_count": 6,
   "metadata": {},
   "outputs": [],
   "source": [
    "def reverse(mat):\n",
    "    new_mat = []\n",
    "    for i in range(4):\n",
    "        new_mat.append([])\n",
    "        for j in range(4):\n",
    "            new_mat[i].append(mat[i][4-j-1])\n",
    "            \n",
    "    return new_mat"
   ]
  },
  {
   "cell_type": "code",
   "execution_count": 7,
   "metadata": {},
   "outputs": [],
   "source": [
    "def transpose(mat):\n",
    "    new_mat = []\n",
    "    for i in range(4):\n",
    "        new_mat.append([])\n",
    "        for j in range(4):\n",
    "            new_mat[i].append(mat[j][i])\n",
    "    \n",
    "    return new_mat"
   ]
  },
  {
   "cell_type": "code",
   "execution_count": 8,
   "metadata": {},
   "outputs": [],
   "source": [
    "def move_up(grid):\n",
    "    transposed_grid = transpose(grid)\n",
    "    new_grid, changed1 = compress(transposed_grid)\n",
    "    new_grid, changed2 = merge(new_grid)\n",
    "    changed = changed1 or changed2\n",
    "    new_grid, temp = compress(new_grid)\n",
    "    final_grid = transpose(new_grid)\n",
    "    \n",
    "    return final_grid, changed"
   ]
  },
  {
   "cell_type": "code",
   "execution_count": 9,
   "metadata": {},
   "outputs": [],
   "source": [
    "def move_down(grid):\n",
    "    transposed_grid = transpose(grid)\n",
    "    reverse_grid = reverse(transposed_grid)\n",
    "    new_grid, changed1 = compress(reverse_grid)\n",
    "    new_grid, changed2 = merge(new_grid)\n",
    "    changed = changed1 or changed2\n",
    "    new_grid, temp = compress(new_grid)\n",
    "    final_reversed_grid = reverse(new_grid)\n",
    "    final_grid = transpose(final_reversed_grid)\n",
    "    \n",
    "    return final_grid, changed"
   ]
  },
  {
   "cell_type": "code",
   "execution_count": 10,
   "metadata": {},
   "outputs": [],
   "source": [
    "def move_right(grid):\n",
    "    reverse_grid = reverse(grid)\n",
    "    new_grid, changed1 = compress(reverse_grid)\n",
    "    new_grid, changed2 = merge(new_grid)\n",
    "    changed = changed1 or changed2\n",
    "    new_grid, temp = compress(new_grid)\n",
    "    final_grid = reverse(new_grid)\n",
    "    \n",
    "    return final_grid, changed"
   ]
  },
  {
   "cell_type": "code",
   "execution_count": 11,
   "metadata": {},
   "outputs": [],
   "source": [
    "def move_left(grid):\n",
    "    new_grid, changed1 = compress(grid)\n",
    "    new_grid, changed2 = merge(new_grid)\n",
    "    changed = changed1 or changed2\n",
    "    new_grid, temp = compress(new_grid)\n",
    "    \n",
    "    return new_grid, changed"
   ]
  }
 ],
 "metadata": {
  "kernelspec": {
   "display_name": "Python 3",
   "language": "python",
   "name": "python3"
  },
  "language_info": {
   "codemirror_mode": {
    "name": "ipython",
    "version": 3
   },
   "file_extension": ".py",
   "mimetype": "text/x-python",
   "name": "python",
   "nbconvert_exporter": "python",
   "pygments_lexer": "ipython3",
   "version": "3.8.2-final"
  }
 },
 "nbformat": 4,
 "nbformat_minor": 4
}